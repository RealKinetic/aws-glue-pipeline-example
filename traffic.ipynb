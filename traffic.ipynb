{
 "cells": [
  {
   "cell_type": "markdown",
   "metadata": {},
   "source": [
    "# Traffic Data ETL Demo\n",
    "\n",
    "This is a demo ETL process that extracts traffic data stored as CSV in S3, transforms it, and loads it into Redshift.\n",
    "\n",
    "## Boilerplate"
   ]
  },
  {
   "cell_type": "code",
   "execution_count": 72,
   "metadata": {},
   "outputs": [
    {
     "data": {
      "application/vnd.jupyter.widget-view+json": {
       "model_id": "",
       "version_major": 2,
       "version_minor": 0
      },
      "text/plain": [
       "FloatProgress(value=0.0, bar_style='info', description='Progress:', layout=Layout(height='25px', width='50%'),…"
      ]
     },
     "metadata": {},
     "output_type": "display_data"
    }
   ],
   "source": [
    "from awsglue.transforms import *\n",
    "from awsglue.utils import getResolvedOptions\n",
    "from pyspark.context import SparkContext\n",
    "from awsglue.context import GlueContext\n",
    "from awsglue.job import Job\n",
    "\n",
    "glueContext = GlueContext(SparkContext.getOrCreate())\n",
    "println('test')"
   ]
  },
  {
   "cell_type": "markdown",
   "metadata": {},
   "source": [
    "## Load the data source"
   ]
  },
  {
   "cell_type": "code",
   "execution_count": 100,
   "metadata": {},
   "outputs": [
    {
     "data": {
      "application/vnd.jupyter.widget-view+json": {
       "model_id": "",
       "version_major": 2,
       "version_minor": 0
      },
      "text/plain": [
       "FloatProgress(value=0.0, bar_style='info', description='Progress:', layout=Layout(height='25px', width='50%'),…"
      ]
     },
     "metadata": {},
     "output_type": "display_data"
    }
   ],
   "source": [
    "traffic = glueContext.create_dynamic_frame.from_catalog(\n",
    "    database = \"traffic\",\n",
    "    table_name = \"traffic\"\n",
    ")"
   ]
  },
  {
   "cell_type": "markdown",
   "metadata": {},
   "source": [
    "## Drop unwanted fields"
   ]
  },
  {
   "cell_type": "code",
   "execution_count": 101,
   "metadata": {},
   "outputs": [
    {
     "data": {
      "application/vnd.jupyter.widget-view+json": {
       "model_id": "",
       "version_major": 2,
       "version_minor": 0
      },
      "text/plain": [
       "FloatProgress(value=0.0, bar_style='info', description='Progress:', layout=Layout(height='25px', width='50%'),…"
      ]
     },
     "metadata": {},
     "output_type": "display_data"
    }
   ],
   "source": [
    "traffic = traffic.drop_fields([\n",
    "    'location',\n",
    "    'boundaries - zip codes',\n",
    "    'community areas',\n",
    "    'census tracts',\n",
    "    'wards',\n",
    "    ':@computed_region_awaf_s7ux'\n",
    "])"
   ]
  },
  {
   "cell_type": "markdown",
   "metadata": {},
   "source": [
    "## Map remaining fields"
   ]
  },
  {
   "cell_type": "code",
   "execution_count": 102,
   "metadata": {},
   "outputs": [
    {
     "data": {
      "application/vnd.jupyter.widget-view+json": {
       "model_id": "",
       "version_major": 2,
       "version_minor": 0
      },
      "text/plain": [
       "FloatProgress(value=0.0, bar_style='info', description='Progress:', layout=Layout(height='25px', width='50%'),…"
      ]
     },
     "metadata": {},
     "output_type": "display_data"
    }
   ],
   "source": [
    "def reformat_date(record):\n",
    "    \"\"\"Change 'date of count' format from mm/dd/yyyy to yyyy-mm-dd.\"\"\"\n",
    "    date = record['date of count']\n",
    "    month, day, year = date.split('/')\n",
    "    record['date of count'] = year + '-' + month + '-' + day\n",
    "    return record\n",
    "\n",
    "def split_vehicle_volume(record):\n",
    "    \"\"\"Split 'vehicle volume by each direction of traffic' into\n",
    "    separate fields for each direction.\n",
    "    \"\"\"\n",
    "    volumes = record['vehicle volume by each direction of traffic']\n",
    "    direction_volumes = volumes.split('/')\n",
    "    for direction_volume in direction_volumes:\n",
    "        if ':' not in direction_volume:\n",
    "            continue\n",
    "        direction, volume = direction_volume.split(':')\n",
    "        volume = int(volume.strip())\n",
    "        direction = direction.lower()\n",
    "        if 'north' in direction:\n",
    "            record['vehicle volume north'] = volume\n",
    "        elif 'south' in direction:\n",
    "            record['vehicle volume south'] = volume\n",
    "        elif 'west' in direction:\n",
    "            record['vehicle volume west'] = volume\n",
    "        elif 'east' in direction:\n",
    "            record['vehicle volume east'] = volume\n",
    "    return record\n",
    "\n",
    "# Convert date format and split vehicle volume field by direction\n",
    "traffic = traffic.map(reformat_date).map(split_vehicle_volume)\n",
    "\n",
    "# Map field names and types\n",
    "traffic = traffic.apply_mapping([\n",
    "    ('id', 'long', 'id', 'long'),\n",
    "    ('traffic volume count location  address', 'string', 'address', 'string'),\n",
    "    ('street', 'string', 'street', 'string'),\n",
    "    ('date of count', 'string', 'date_of_count', 'date'),\n",
    "    ('total passing vehicle volume', 'long', 'total_passing_vehicle_volume', 'long'),\n",
    "    ('vehicle volume north', 'int', 'vehicle_volume_north', 'long'),\n",
    "    ('vehicle volume south', 'int', 'vehicle_volume_south', 'long'),\n",
    "    ('vehicle volume west', 'int', 'vehicle_volume_west', 'long'),\n",
    "    ('vehicle volume east', 'int', 'vehicle_volume_east', 'long'),\n",
    "    ('latitude', 'double', 'latitude', 'double'),\n",
    "    ('longitude', 'double', 'longitude', 'double'),\n",
    "    ('zip codes', 'long', 'zip_codes', 'long'),\n",
    "])"
   ]
  },
  {
   "cell_type": "markdown",
   "metadata": {},
   "source": [
    "## Write data to Redshift"
   ]
  },
  {
   "cell_type": "code",
   "execution_count": 104,
   "metadata": {},
   "outputs": [
    {
     "data": {
      "application/vnd.jupyter.widget-view+json": {
       "model_id": "",
       "version_major": 2,
       "version_minor": 0
      },
      "text/plain": [
       "FloatProgress(value=0.0, bar_style='info', description='Progress:', layout=Layout(height='25px', width='50%'),…"
      ]
     },
     "metadata": {},
     "output_type": "display_data"
    }
   ],
   "source": [
    "glueContext.write_dynamic_frame.from_jdbc_conf(frame=traffic,\n",
    "                                               catalog_connection='redshift',\n",
    "                                               connection_options={'dbtable': 'traffic', 'database': 'dev'},\n",
    "                                               redshift_tmp_dir='s3://rk-analytics-sandbox/temp-dir/'\n",
    ")"
   ]
  },
  {
   "cell_type": "code",
   "execution_count": null,
   "metadata": {},
   "outputs": [],
   "source": []
  }
 ],
 "metadata": {
  "kernelspec": {
   "display_name": "Sparkmagic (PySpark)",
   "language": "",
   "name": "pysparkkernel"
  },
  "language_info": {
   "codemirror_mode": {
    "name": "python",
    "version": 3
   },
   "mimetype": "text/x-python",
   "name": "pyspark",
   "pygments_lexer": "python3"
  }
 },
 "nbformat": 4,
 "nbformat_minor": 4
}
